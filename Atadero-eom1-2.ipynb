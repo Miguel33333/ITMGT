{
 "cells": [
  {
   "cell_type": "markdown",
   "metadata": {},
   "source": [
    "## 1. Turning Tables\n",
    "Write a program that asks for a number of rows in an HTML table and generates a table with alternating light yellow and white rows, starting with light yellow. The first column of the table (i.e. the first set of <td></td> enclosures) shows the row number. The second column displays the square of the row number. The starting row number is 1.\n",
    "Note: <table> </table> are begin and end tags respectively. Each row is enclosed by <tr> and </tr>. Each row has two details or columns as enclosed by <td> and </td>: the row number and the square of the row number.\n",
    "How to format"
   ]
  },
  {
   "cell_type": "code",
   "execution_count": 127,
   "metadata": {},
   "outputs": [
    {
     "name": "stdout",
     "output_type": "stream",
     "text": [
      "Enter number of rows: 5\n",
      "<table>\n",
      " <tr class= \"lightyellowrow\"><td> 1 </td><td> 1 </td><td>\n",
      "</table>\n",
      "\n",
      " <tr class= \"whiterow\"><td> 2 </td><td> 4 </td><td>\n",
      "</table>\n",
      "\n",
      " <tr class= \"lightyellowrow\"><td> 3 </td><td> 9 </td><td>\n",
      "</table>\n",
      "\n",
      " <tr class= \"whiterow\"><td> 4 </td><td> 16 </td><td>\n",
      "</table>\n",
      "\n",
      " <tr class= \"lightyellowrow\"><td> 5 </td><td> 25 </td><td>\n",
      "</table>\n"
     ]
    }
   ],
   "source": [
    "rows = int(input(\"Enter number of rows: \"))\n",
    "i = 0\n",
    "while(rows>i):\n",
    "    i+=1\n",
    "    if(i==1):\n",
    "         print(\"<table>\\n\",\"<tr class= \\\"lightyellowrow\\\"><td>\", i,\"</td><td>\", i**2,\"</td><td>\")\n",
    "    elif(i%2==0):\n",
    "        print(\"\\n\",\"<tr class= \\\"whiterow\\\"><td>\", i,\"</td><td>\", i**2,\"</td><td>\")   \n",
    "    else:\n",
    "        print(\"\\n\",\"<tr class= \\\"lightyellowrow\\\"><td>\", i,\"</td><td>\", i**2,\"</td><td>\")\n",
    "    print(\"</table>\")\n",
    "    \n",
    "    \n"
   ]
  },
  {
   "cell_type": "markdown",
   "metadata": {},
   "source": [
    "## 2. Dating Norms\n",
    " Day\n",
    " Month \n",
    " Year\n",
    " output it in proper format\n",
    "\n",
    "1. January - 31 days\n",
    "2. February - 28 days in a common year and 29 days in leap years\n",
    "3. March - 31 days\n",
    "4. April - 30 days\n",
    "5. May - 31 days\n",
    "6. June - 30 days\n",
    "7. July - 31 days\n",
    "8. August - 31 days\n",
    "9. September - 30 days\n",
    "10. October - 31 days\n",
    "11. November - 30 days\n",
    "12. December - 31 days"
   ]
  },
  {
   "cell_type": "code",
   "execution_count": 113,
   "metadata": {},
   "outputs": [
    {
     "name": "stdout",
     "output_type": "stream",
     "text": [
      "Day: 20\n",
      "Month: 1\n",
      "Year: 2020\n",
      "It is the  20 st day of the month of  January of the year  2020\n"
     ]
    }
   ],
   "source": [
    "day = int(input(\"Day: \"))\n",
    "month = int(input(\"Month: \"))\n",
    "year = int(input(\"Year: \"))\n",
    "validity=0\n",
    "leap_year_factor=0\n",
    "\n",
    "#LeapYear\n",
    "if(year%4==0 and year%100!=0 and year%400!=0):\n",
    "    leap_year_factor = 1\n",
    "elif(year%4==0 and year%100==0 and year%400==0):\n",
    "    leap_year_factor = 1\n",
    "else:\n",
    "    leap_year_factor = 0\n",
    "    \n",
    "#Months\n",
    "if(month==1):\n",
    "    month_output=\"January\"\n",
    "elif(month==2):\n",
    "    month_output=\"February\"\n",
    "elif(month==3):\n",
    "    month_output=\"March\"\n",
    "elif(month==4):\n",
    "    month_output=\"April\"\n",
    "elif(month==5):\n",
    "    month_output=\"May\"\n",
    "elif(month==6):\n",
    "    month_output=\"June\"\n",
    "elif(month==7):\n",
    "    month_output=\"July\"\n",
    "elif(month==8):\n",
    "    month_output=\"August\"\n",
    "elif(month==9):\n",
    "    month_output=\"September\"\n",
    "elif(month==10):\n",
    "    month_output=\"October\"\n",
    "elif(month==11):\n",
    "    month_output=\"November\"\n",
    "else:\n",
    "    month_output=\"December\"\n",
    "#Days  \n",
    "if(day==1, 21, 31):\n",
    "    day_affix=\"st\"\n",
    "elif(day==2, 22):\n",
    "    day_affix=\"nd\"\n",
    "elif(day==3, 23):\n",
    "    day_affix=\"rd\"\n",
    "else:\n",
    "    day_affix=\"th\"\n",
    "\n",
    "#ValidityTest\n",
    "if(month==1 and day>31):\n",
    "    validity=0\n",
    "elif(month==4, 6, 9, 11 and day>30):\n",
    "    validity=0\n",
    "elif(month==2 and day>29 and leap_year_factor==1):\n",
    "    validity=0\n",
    "elif(month==2 and day>28 and leap_year_factor==0):\n",
    "    validity=0\n",
    "else:\n",
    "    validtiy=1\n",
    "    \n",
    "if(validity==0):\n",
    "    print(\"Date is not valid\")\n",
    "else:\n",
    "    print(\"It is the \",day, day_affix, \"day of the month of \", month_output, \"of the year \", year)\n",
    "\n",
    "\n"
   ]
  },
  {
   "cell_type": "markdown",
   "metadata": {},
   "source": [
    "## 3. Followers\n",
    "obedient number is a number that can be written as the sum of 3 consecutive positive integers"
   ]
  },
  {
   "cell_type": "code",
   "execution_count": 132,
   "metadata": {},
   "outputs": [
    {
     "name": "stdout",
     "output_type": "stream",
     "text": [
      "True\n"
     ]
    }
   ],
   "source": [
    "\n",
    "def obedient(number):\n",
    "    i=0\n",
    "    while(True):\n",
    "        \n",
    "        if(number==((3*i)+3)):\n",
    "            print(\"True\")\n",
    "            break\n",
    "        elif(number<i):\n",
    "            print(\"False\")\n",
    "            break\n",
    "        else:\n",
    "            i+=1\n",
    "            \n",
    "            \n",
    "            \n",
    "    \n",
    "obedient(123)\n",
    "           \n",
    "        "
   ]
  },
  {
   "cell_type": "markdown",
   "metadata": {},
   "source": [
    "## 4. Go forth and multiply"
   ]
  },
  {
   "cell_type": "code",
   "execution_count": 136,
   "metadata": {},
   "outputs": [
    {
     "name": "stdout",
     "output_type": "stream",
     "text": [
      "1\t2\n",
      "6\n"
     ]
    }
   ],
   "source": [
    "def multtable(number):\n",
    "    x=1\n",
    "    row=0\n",
    "    while(x<number+1):\n",
    "        if(x==1):\n",
    "            print(x, end=\"\\t\")\n",
    "        elif(x==2):\n",
    "            print(x*row)\n",
    "        elif(x==3):\n",
    "            print(x*row)\n",
    "        x+=1\n",
    "        row+=1\n",
    "            \n",
    "       \n",
    "        \n",
    "multtable(4)\n",
    "        \n",
    "    "
   ]
  },
  {
   "cell_type": "code",
   "execution_count": 5,
   "metadata": {},
   "outputs": [
    {
     "name": "stdout",
     "output_type": "stream",
     "text": [
      "1 2 3 4 \n",
      "2 4 6 8 \n",
      "3 6 9 12 \n",
      "4 8 12 16 \n"
     ]
    }
   ],
   "source": [
    "#Base it on past excercise\n",
    "\n",
    "\n",
    "def multtable(number):\n",
    "    h=1\n",
    "    while(h<number):\n",
    "        w=1\n",
    "        while(w<number):\n",
    "            print(w*h, end=\" \")\n",
    "            w+=1\n",
    "        print()\n",
    "        h+=1\n",
    "multtable(5)"
   ]
  },
  {
   "cell_type": "markdown",
   "metadata": {},
   "source": [
    "## 5. Avatar"
   ]
  },
  {
   "cell_type": "code",
   "execution_count": 104,
   "metadata": {},
   "outputs": [
    {
     "name": "stdout",
     "output_type": "stream",
     "text": [
      "Do you prefer (a) the mountains, (b) the city, or (c) the beach a\n",
      "Do you prefer (a) yoghurt, (b) ice cream, or (c) gelato? b\n",
      "Do you prefer (a) reading, (b) singing, or (c) writing? c\n",
      "Do you prefer (a) sweet, (b) salty, or (c) spicy food? b\n",
      "Do you prefer (a) cats, (b) dogs, or (c) fish? c\n",
      "Your element is  water\n"
     ]
    }
   ],
   "source": [
    "Qone = input(\"Do you prefer (a) the mountains, (b) the city, or (c) the beach \")\n",
    "Qtwo = input(\"Do you prefer (a) yoghurt, (b) ice cream, or (c) gelato? \")\n",
    "Qthree = input(\"Do you prefer (a) reading, (b) singing, or (c) writing? \")\n",
    "Qfour = input(\"Do you prefer (a) sweet, (b) salty, or (c) spicy food? \")\n",
    "Qfive = input(\"Do you prefer (a) cats, (b) dogs, or (c) fish? \")\n",
    "\n",
    "fire=0\n",
    "water=0\n",
    "air=0\n",
    "earth=0\n",
    "#QUESTION1\n",
    "if(Qone==\"a\"):\n",
    "    fire+=1\n",
    "elif(Qone==\"b\"):\n",
    "    earth+=1\n",
    "else:\n",
    "    water+=1\n",
    "    \n",
    "#QUESTION2   \n",
    "if (Qtwo==\"a\"):\n",
    "    earth+=1\n",
    "elif(Qtwo==\"b\"):\n",
    "    water+=1\n",
    "else:\n",
    "    fire+=1\n",
    "    \n",
    "#QUESTION3\n",
    "if (Qthree==\"a\"):\n",
    "    water+=1\n",
    "elif(Qthree==\"b\"):\n",
    "    fire+=1\n",
    "else:\n",
    "    earth+=1\n",
    "    \n",
    "#QUESTION4\n",
    "if (Qfour==\"a\"):\n",
    "    earth+=1\n",
    "elif(Qfour==\"b\"):\n",
    "    water+=1\n",
    "else:\n",
    "    fire+=1\n",
    "    \n",
    "#QUESTION5\n",
    "if (Qfive==\"a\"):\n",
    "    earth+=1\n",
    "elif(Qfive==\"b\"):\n",
    "    fire+=1\n",
    "else:\n",
    "    water+=1\n",
    "#Conditions\n",
    "if(fire>water and fire>earth and fire>air):\n",
    "    winning_element=\"fire\"\n",
    "elif(fire==water and fire>earth and fire>air):\n",
    "    winning_element=\"fire\"\n",
    "elif(water>fire and water>earth and water>air):\n",
    "    winning_element=\"water\"\n",
    "elif(water==earth and water>fire and water>air):\n",
    "    winning_element=\"water\"\n",
    "elif(earth>fire and earth>water and earth>air):\n",
    "    winning_element=\"earth\"\n",
    "elif(earth==fire and earth>water and earth>air):\n",
    "    winning_element=\"earth\"\n",
    "elif(air>fire and air>earth and air>water):\n",
    "    winning_element=\"air\"\n",
    "    \n",
    "print(\"Your element is \",winning_element)\n",
    "\n",
    "    "
   ]
  },
  {
   "cell_type": "code",
   "execution_count": null,
   "metadata": {},
   "outputs": [],
   "source": []
  },
  {
   "cell_type": "code",
   "execution_count": null,
   "metadata": {},
   "outputs": [],
   "source": []
  }
 ],
 "metadata": {
  "kernelspec": {
   "display_name": "Python 3",
   "language": "python",
   "name": "python3"
  },
  "language_info": {
   "codemirror_mode": {
    "name": "ipython",
    "version": 3
   },
   "file_extension": ".py",
   "mimetype": "text/x-python",
   "name": "python",
   "nbconvert_exporter": "python",
   "pygments_lexer": "ipython3",
   "version": "3.7.6"
  }
 },
 "nbformat": 4,
 "nbformat_minor": 4
}
