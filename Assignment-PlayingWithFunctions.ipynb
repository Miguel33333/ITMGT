{
 "cells": [
  {
   "cell_type": "markdown",
   "metadata": {},
   "source": [
    "190393\n",
    "Jose Miguel Atadero\n",
    "Playing with functions"
   ]
  },
  {
   "cell_type": "markdown",
   "metadata": {},
   "source": [
    "## Number 1"
   ]
  },
  {
   "cell_type": "code",
   "execution_count": 1,
   "metadata": {},
   "outputs": [],
   "source": [
    "def area_of_circle(circumference):\n",
    "    area = (((circumference/2/3.1416)**2)*3.1416)\n",
    "    return area\n"
   ]
  },
  {
   "cell_type": "code",
   "execution_count": 2,
   "metadata": {},
   "outputs": [
    {
     "name": "stdout",
     "output_type": "stream",
     "text": [
      "Enter circumference: 50\n",
      "198.94321364909598\n"
     ]
    }
   ],
   "source": [
    "circumference=float(input(\"Enter circumference: \"))\n",
    "area=area_of_circle(circumference)\n",
    "print(area)\n",
    "                          "
   ]
  },
  {
   "cell_type": "markdown",
   "metadata": {},
   "source": [
    "## Number 2"
   ]
  },
  {
   "cell_type": "code",
   "execution_count": 6,
   "metadata": {},
   "outputs": [],
   "source": [
    "#if user wants to input\n",
    "def reverse_string(word):\n",
    "    reverse = word[4], word[3], word[2], word[1], word[0]\n",
    "    return reverse"
   ]
  },
  {
   "cell_type": "code",
   "execution_count": 7,
   "metadata": {},
   "outputs": [
    {
     "name": "stdout",
     "output_type": "stream",
     "text": [
      "Enter 5 character string: hello\n",
      "('o', 'l', 'l', 'e', 'h')\n"
     ]
    }
   ],
   "source": [
    "word = str(input(\"Enter 5 character string: \"))\n",
    "reverse=reverse_string(word)\n",
    "print(reverse)"
   ]
  },
  {
   "cell_type": "code",
   "execution_count": 8,
   "metadata": {},
   "outputs": [],
   "source": [
    "#user puts it into parameter\n",
    "def reverse_string(word):\n",
    "    reverse = print(word[4], word[3], word[2], word[1], word[0])\n",
    "    return reverse"
   ]
  },
  {
   "cell_type": "code",
   "execution_count": 9,
   "metadata": {},
   "outputs": [
    {
     "name": "stdout",
     "output_type": "stream",
     "text": [
      "o l l e h\n"
     ]
    }
   ],
   "source": [
    "reverse=reverse_string(\"hello\")\n"
   ]
  },
  {
   "cell_type": "markdown",
   "metadata": {},
   "source": [
    "## Number 3"
   ]
  },
  {
   "cell_type": "code",
   "execution_count": 3,
   "metadata": {},
   "outputs": [],
   "source": [
    "def backAddition(number):\n",
    "    totalsum=0\n",
    "    for element in range(1,number+1):\n",
    "        totalsum+=element\n",
    "    return totalsum  "
   ]
  },
  {
   "cell_type": "code",
   "execution_count": 5,
   "metadata": {},
   "outputs": [
    {
     "name": "stdout",
     "output_type": "stream",
     "text": [
      "Enter a positive integer: 6\n",
      "21\n"
     ]
    }
   ],
   "source": [
    "number=int(input(\"Enter a positive integer: \"))\n",
    "totalsum=backAddition(number)\n",
    "print(totalsum)"
   ]
  },
  {
   "cell_type": "code",
   "execution_count": 49,
   "metadata": {},
   "outputs": [
    {
     "data": {
      "text/plain": [
       "21"
      ]
     },
     "execution_count": 49,
     "metadata": {},
     "output_type": "execute_result"
    }
   ],
   "source": [
    "#checking\n",
    "6+5+4+3+2+1"
   ]
  },
  {
   "cell_type": "markdown",
   "metadata": {},
   "source": [
    "## Number 4"
   ]
  },
  {
   "cell_type": "code",
   "execution_count": 18,
   "metadata": {},
   "outputs": [
    {
     "name": "stdout",
     "output_type": "stream",
     "text": [
      "3025 - 385\n",
      "= 2640\n"
     ]
    }
   ],
   "source": [
    "#Square of the sum of the first 10 natural numbers numbers\n",
    "SumOfNumbers=0\n",
    "for i in range(1,11):\n",
    "    SumOfNumbers+=i\n",
    "SquaredNumbersSum=SumOfNumbers**2\n",
    "print(SquaredNumbersSum,\"-\", end=\"\")\n",
    "\n",
    "#Sum of the squares of the first 10 natural numbers\n",
    "sumofsquares=0\n",
    "for element in range (1,11):\n",
    "    sumofsquares+=element**2\n",
    "print(\"\",sumofsquares)\n",
    "\n",
    "#Final Output\n",
    "print(\"=\",SquaredNumbersSum-sumofsquares)"
   ]
  },
  {
   "cell_type": "markdown",
   "metadata": {},
   "source": [
    "## Number 5\n",
    "Write a function that allows a self-service Point of Sale system to give you the exact change when you pay in cash.\n",
    "\n",
    "The function should accept the number of cents entered by the caller of the function. It then should display the denominations of the coins that should be given to the buyer. The change should use as few coins as possible. Assume that the Point of Sale system is loaded with 1 cent, 5 cents, 10 cents, 25 cents and 1 peso coins."
   ]
  },
  {
   "cell_type": "code",
   "execution_count": 46,
   "metadata": {},
   "outputs": [
    {
     "name": "stdout",
     "output_type": "stream",
     "text": [
      "Enter cents: 69\n",
      "0\n",
      "2\n",
      "1\n",
      "1\n",
      "4\n"
     ]
    }
   ],
   "source": [
    "\n",
    "cent = int(input(\"Enter cents: \"))\n",
    "\n",
    "onepeso=0\n",
    "twentyfive=0\n",
    "ten=0\n",
    "five=0\n",
    "one=0\n",
    "def denomination(cent):\n",
    "    onepeso = cent//100\n",
    "    remainder100 = cent-(onepeso*100)\n",
    "\n",
    "    twentyfive = remainder100//25\n",
    "    remainder25 = remainder100-(twentyfive*25)\n",
    "\n",
    "    ten = remainder25//10\n",
    "    remainder10 = remainder25-(ten*10)\n",
    "\n",
    "    five = remainder10//5\n",
    "    remainderfive = remainder10-(five*5)\n",
    "\n",
    "    one = remainderfive//1\n",
    "    remainder1 = remainderfive-(one*1)\n",
    "    \n",
    "    print(onepeso)\n",
    "    print(twentyfive)\n",
    "    print(ten)\n",
    "    print(five)\n",
    "    print(one)\n",
    "change = denomination(cent)\n"
   ]
  },
  {
   "cell_type": "code",
   "execution_count": 48,
   "metadata": {},
   "outputs": [
    {
     "name": "stdout",
     "output_type": "stream",
     "text": [
      "1\n",
      "0\n",
      "0\n",
      "1\n",
      "0\n",
      "-------------\n",
      "0\n",
      "2\n",
      "1\n",
      "1\n",
      "4\n"
     ]
    }
   ],
   "source": [
    "#testing sample output\n",
    "denomination(105)\n",
    "print(\"-------------\")\n",
    "denomination(69)"
   ]
  },
  {
   "cell_type": "code",
   "execution_count": 7,
   "metadata": {},
   "outputs": [],
   "source": []
  },
  {
   "cell_type": "code",
   "execution_count": null,
   "metadata": {},
   "outputs": [],
   "source": []
  },
  {
   "cell_type": "markdown",
   "metadata": {},
   "source": []
  },
  {
   "cell_type": "code",
   "execution_count": null,
   "metadata": {},
   "outputs": [],
   "source": []
  },
  {
   "cell_type": "code",
   "execution_count": null,
   "metadata": {},
   "outputs": [],
   "source": []
  }
 ],
 "metadata": {
  "kernelspec": {
   "display_name": "Python 3",
   "language": "python",
   "name": "python3"
  },
  "language_info": {
   "codemirror_mode": {
    "name": "ipython",
    "version": 3
   },
   "file_extension": ".py",
   "mimetype": "text/x-python",
   "name": "python",
   "nbconvert_exporter": "python",
   "pygments_lexer": "ipython3",
   "version": "3.7.6"
  }
 },
 "nbformat": 4,
 "nbformat_minor": 4
}
