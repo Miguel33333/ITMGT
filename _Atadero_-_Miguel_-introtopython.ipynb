{
 "cells": [
  {
   "cell_type": "markdown",
   "metadata": {},
   "source": [
    "1. 190393\n",
    "2. Atadero\n",
    "3. 2 BS ME"
   ]
  },
  {
   "cell_type": "markdown",
   "metadata": {},
   "source": [
    "# Intro To Python\n",
    "1. Ask for first number\n",
    "2. Ask for second number\n",
    "3. Ask for third number\n",
    "4. Print the average of the three numbers"
   ]
  },
  {
   "cell_type": "code",
   "execution_count": 4,
   "metadata": {},
   "outputs": [],
   "source": [
    "def compute_average(first, second, third):\n",
    "    average = ((first + second + third)/3)\n",
    "    return average"
   ]
  },
  {
   "cell_type": "code",
   "execution_count": null,
   "metadata": {},
   "outputs": [],
   "source": [
    "#Ask for the first number\n",
    "first = int(input(\"Enter the first number \"))\n",
    "\n",
    "#Ask for the second number\n",
    "second = int(input(\"Enter the second number \"))\n",
    "\n",
    "#Ask for the third number\n",
    "third = int(input(\"Enter the third number \"))\n",
    "\n",
    "#Compute for average\n",
    "average = compute_average(first, second, third)\n",
    "\n",
    "#Display average\n",
    "print (\"Average: \", average)\n"
   ]
  },
  {
   "cell_type": "code",
   "execution_count": null,
   "metadata": {},
   "outputs": [],
   "source": []
  },
  {
   "cell_type": "markdown",
   "metadata": {},
   "source": []
  }
 ],
 "metadata": {
  "kernelspec": {
   "display_name": "Python 3",
   "language": "python",
   "name": "python3"
  },
  "language_info": {
   "codemirror_mode": {
    "name": "ipython",
    "version": 3
   },
   "file_extension": ".py",
   "mimetype": "text/x-python",
   "name": "python",
   "nbconvert_exporter": "python",
   "pygments_lexer": "ipython3",
   "version": "3.7.6"
  }
 },
 "nbformat": 4,
 "nbformat_minor": 4
}
