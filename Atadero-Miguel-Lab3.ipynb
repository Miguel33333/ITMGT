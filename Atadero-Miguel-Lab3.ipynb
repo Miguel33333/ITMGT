{
 "cells": [
  {
   "cell_type": "markdown",
   "metadata": {},
   "source": [
    "190393 Atadero BS ME\n"
   ]
  },
  {
   "cell_type": "markdown",
   "metadata": {},
   "source": [
    "## Problem1 : Social Media Example\n",
    "Write a function relationship_status(from_member, to_member) that determines if two members are friends, or if the first person follows or is followed by the second person. The function should return one of these:\n",
    "\n",
    "1. \"follower\" (type is str)\n",
    "2. \"followed by\"(type is str)\n",
    "3. None (type is None)"
   ]
  },
  {
   "cell_type": "code",
   "execution_count": 4,
   "metadata": {},
   "outputs": [],
   "source": [
    "social_graph = {\n",
    "    \"@bongolpoc\":{\"first_name\":\"Joselito\",\n",
    "                  \"last_name\":\"Olpoc\",\n",
    "                  \"following\":[\n",
    "                  ]\n",
    "    },\n",
    "    \"@joaquin\":  {\"first_name\":\"Joaquin\",\n",
    "                  \"last_name\":\"Gonzales\",\n",
    "                  \"following\":[\n",
    "                      \"@chums\",\"@jobenilagan\"\n",
    "                  ]\n",
    "    },\n",
    "    \"@chums\" : {\"first_name\":\"Matthew\",\n",
    "                \"last_name\":\"Uy\",\n",
    "                \"following\":[\n",
    "                    \"@bongolpoc\",\"@miketan\",\"@rudyang\",\"@joeilagan\"\n",
    "                ]\n",
    "    },\n",
    "    \"@jobenilagan\":{\"first_name\":\"Joben\",\n",
    "                   \"last_name\":\"Ilagan\",\n",
    "                   \"following\":[\n",
    "                    \"@eeebeee\",\"@joeilagan\",\"@chums\",\"@joaquin\"\n",
    "                   ]\n",
    "    },\n",
    "    \"@joeilagan\":{\"first_name\":\"Joe\",\n",
    "                  \"last_name\":\"Ilagan\",\n",
    "                  \"following\":[\n",
    "                    \"@eeebeee\",\"@jobenilagan\",\"@chums\"\n",
    "                  ]\n",
    "    },\n",
    "    \"@eeebeee\":  {\"first_name\":\"Elizabeth\",\n",
    "                  \"last_name\":\"Ilagan\",\n",
    "                  \"following\":[\n",
    "                    \"@jobenilagan\",\"@joeilagan\"\n",
    "                  ]\n",
    "    },\n",
    "}\n",
    "\n"
   ]
  },
  {
   "cell_type": "code",
   "execution_count": 26,
   "metadata": {},
   "outputs": [
    {
     "name": "stdout",
     "output_type": "stream",
     "text": [
      "friends\n"
     ]
    }
   ],
   "source": [
    "def relationship_status(from_member, to_member):\n",
    "    if((from_member in social_graph[to_member][\"following\"]) and (to_member in social_graph[from_member][\"following\"])):\n",
    "        print(\"friends\")\n",
    "    elif((from_member in social_graph[to_member][\"following\"])):\n",
    "        print(\"followed by\")\n",
    "    elif((to_member in social_graph[from_member][\"following\"])):\n",
    "        print(\"follower\")\n",
    "    else:\n",
    "        print(\"none\")\n",
    "    \n",
    "\n",
    "relationship_status(\"@chums\",\"@joeilagan\")\n",
    "\n"
   ]
  },
  {
   "cell_type": "markdown",
   "metadata": {},
   "source": [
    "## Problem2 : Tic tac toe competition"
   ]
  },
  {
   "cell_type": "code",
   "execution_count": 2,
   "metadata": {},
   "outputs": [],
   "source": [
    "board1 = [\n",
    "['X','X','O'],\n",
    "['O','X','O'],\n",
    "['O','','X'],\n",
    "]\n",
    "\n",
    "board2 = [\n",
    "['X','X','O'],\n",
    "['O','X','O'],\n",
    "['','O','X'],\n",
    "]\n",
    "\n",
    "board3 = [\n",
    "['O','X','O'],\n",
    "['','O','X'],\n",
    "['X','X','O'],\n",
    "]\n",
    "\n",
    "board4 = [\n",
    "['X','X','X'],\n",
    "['O','X','O'],\n",
    "['O','','O'],\n",
    "]\n",
    "\n",
    "board5 = [\n",
    "['X','X','O'],\n",
    "['O','X','O'],\n",
    "['X','','O'],\n",
    "]\n",
    "\n",
    "board6 = [\n",
    "['X','X','O'],\n",
    "['O','X','O'],\n",
    "['X','',''],\n",
    "]\n",
    "X_winning_combination = [\"X\", \"X\", \"X\"]\n",
    "O_winning_combination = [\"O\", \"O\", \"O\"]\n"
   ]
  },
  {
   "cell_type": "code",
   "execution_count": 27,
   "metadata": {},
   "outputs": [
    {
     "name": "stdout",
     "output_type": "stream",
     "text": [
      "X won\n"
     ]
    }
   ],
   "source": [
    "def get_winner(board):\n",
    "    #horizontal\n",
    "    i=0\n",
    "    while(i!=3):\n",
    "        if(board[i] == X_winning_combination):\n",
    "            print(\"X won\")\n",
    "            break     \n",
    "        elif(board[i] == O_winning_combination):\n",
    "            print(\"O won\")\n",
    "            break\n",
    "        else:\n",
    "            i+=1\n",
    "\n",
    "    #Vertical        \n",
    "    i=0\n",
    "    vertical = [x for x in zip(*board)]\n",
    "    while(i!=3):\n",
    "        if(vertical[i] == X_winning_combination):\n",
    "            print(\"X won\")\n",
    "        if(vertical[i] == O_winning_combination):\n",
    "            print(\"O won\")\n",
    "            break\n",
    "        else:\n",
    "            i+=1\n",
    "\n",
    "    #updowndiagonal\n",
    "    diagonal_updown = [(board[0][0]),(board[1][1]), (board[2][2])]\n",
    "    if(diagonal_updown == X_winning_combination):\n",
    "        print(\"X won\")\n",
    "    elif(diagonal_updown == O_winning_combination):\n",
    "        print(\"O won\")\n",
    "\n",
    "    #diagonal down up\n",
    "    diagonal_downup = [(board[0][2]), (board[1][1]), (board[2][0])]\n",
    "    if(diagonal_downup == X_winning_combination):\n",
    "        print(\"X won\")\n",
    "    elif(diagonal_downup == O_winning_combination):\n",
    "        print(\"O won\")\n",
    "get_winner(board2)    "
   ]
  },
  {
   "cell_type": "markdown",
   "metadata": {},
   "source": [
    "## Problem3 : Destination and ETA"
   ]
  },
  {
   "cell_type": "code",
   "execution_count": 49,
   "metadata": {},
   "outputs": [],
   "source": [
    "locations = {\n",
    "    \"admu\":{\n",
    "        \"name\":\"Ateneo de Manila University\",\n",
    "        \"latitude\":14.6394557,\n",
    "        \"longitude\":121.0758975        \n",
    "    },\n",
    "    \"upd\":{\n",
    "        \"name\":\"University of the Philippines-Diliman Campus\",\n",
    "        \"latitude\":14.6538519,\n",
    "        \"longitude\":121.0663348\n",
    "    },\n",
    "    \"dlsu\":{\n",
    "        \"name\":\"De La Salle University-Taft\",\n",
    "        \"latitude\":14.5647346,\n",
    "        \"longitude\":120.9909876\n",
    "\n",
    "    }, # <-- Note that Python does not complain about this extra comma. This is perfectly okay.\n",
    "       #     The creators of Python saw that dictionaries tend to be changed a lot, so allowing this is a\n",
    "       #     convenience for developers who need to add elements when needed.\n",
    "}\n",
    "\n",
    "legs = {\n",
    "     (\"upd\",\"admu\"):{\n",
    "         \"travel_time_mins\":10\n",
    "     },\n",
    "     (\"admu\",\"dlsu\"):{\n",
    "         \"travel_time_mins\":35\n",
    "     },\n",
    "     (\"dlsu\",\"upd\"):{\n",
    "         \"travel_time_mins\":55\n",
    "     },\n",
    "    #added\n",
    "     (\"upd\",\"dlsu\"):{\n",
    "        \"travel_time_mins\":45\n",
    "     },\n",
    "    #added\n",
    "     (\"admu\",\"upd\"):{\n",
    "        \"travel_time_mins\":90\n",
    "     },\n",
    "    #added\n",
    "     (\"dlsu\",\"admu\"):{\n",
    "        \"travel_time_mins\":65\n",
    "     }\n",
    "}\n",
    "\n",
    "def eta(source,destination):\n",
    "    out = (legs[source, destination][\"travel_time_mins\"])\n",
    "    return(out)\n",
    "\n",
    "        \n",
    "    \n",
    "    "
   ]
  },
  {
   "cell_type": "code",
   "execution_count": 52,
   "metadata": {},
   "outputs": [
    {
     "name": "stdout",
     "output_type": "stream",
     "text": [
      "Enter source: dlsu\n",
      "Input destination: admu\n",
      "65\n"
     ]
    }
   ],
   "source": [
    "source = input(\"Enter source: \")\n",
    "destination = input(\"Input destination: \")\n",
    "\n",
    "out = eta(source, destination)\n",
    "print(out)\n",
    "\n"
   ]
  },
  {
   "cell_type": "code",
   "execution_count": null,
   "metadata": {},
   "outputs": [],
   "source": [
    "\n",
    "\n",
    "    "
   ]
  },
  {
   "cell_type": "code",
   "execution_count": null,
   "metadata": {},
   "outputs": [],
   "source": []
  },
  {
   "cell_type": "code",
   "execution_count": null,
   "metadata": {},
   "outputs": [],
   "source": []
  }
 ],
 "metadata": {
  "kernelspec": {
   "display_name": "Python 3",
   "language": "python",
   "name": "python3"
  },
  "language_info": {
   "codemirror_mode": {
    "name": "ipython",
    "version": 3
   },
   "file_extension": ".py",
   "mimetype": "text/x-python",
   "name": "python",
   "nbconvert_exporter": "python",
   "pygments_lexer": "ipython3",
   "version": "3.7.6"
  }
 },
 "nbformat": 4,
 "nbformat_minor": 4
}
