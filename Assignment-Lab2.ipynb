{
 "cells": [
  {
   "cell_type": "markdown",
   "metadata": {},
   "source": [
    "190393 Atadero Lab2"
   ]
  },
  {
   "cell_type": "markdown",
   "metadata": {},
   "source": [
    "## Solid Rectangle"
   ]
  },
  {
   "cell_type": "code",
   "execution_count": 14,
   "metadata": {},
   "outputs": [
    {
     "name": "stdout",
     "output_type": "stream",
     "text": [
      "Input width: 5\n",
      "Input height: 6\n",
      "* * * * * \n",
      "* * * * * \n",
      "* * * * * \n",
      "* * * * * \n",
      "* * * * * \n",
      "* * * * * \n"
     ]
    }
   ],
   "source": [
    "width = int(input(\"Input width: \"))\n",
    "height = int(input(\"Input height: \"))\n",
    "\n",
    "def print_rectangle(height, width):\n",
    "    h=0\n",
    "    while(h<height):\n",
    "        w=0\n",
    "        while(w<width):\n",
    "            print(\"*\", end=\" \")\n",
    "            w+=1\n",
    "        print()\n",
    "        h+=1\n",
    "solidrectangle = print_rectangle(height, width)\n"
   ]
  },
  {
   "cell_type": "markdown",
   "metadata": {},
   "source": [
    "## Hollow Rectangle"
   ]
  },
  {
   "cell_type": "code",
   "execution_count": 7,
   "metadata": {},
   "outputs": [
    {
     "name": "stdout",
     "output_type": "stream",
     "text": [
      "*****\n",
      "*   *\n",
      "*   *\n",
      "*   *\n",
      "*   *\n",
      "*****\n"
     ]
    }
   ],
   "source": [
    "def print_hollow_rectangle(w, h):\n",
    "    row = 0\n",
    "    while (row < 1):\n",
    "        print(\"*\" * w)\n",
    "        row += 1\n",
    "    while (row >= 1 and row < h - 1):\n",
    "        print(\"*\", \" \" * (w - 3), end = \"*\")\n",
    "        print()\n",
    "        row += 1\n",
    "    while (row == h - 1):\n",
    "        print(\"*\" * w)\n",
    "        row += 1\n",
    "print_hollow_rectangle(5,6)\n"
   ]
  },
  {
   "cell_type": "markdown",
   "metadata": {},
   "source": [
    "## Cesar Cipher"
   ]
  },
  {
   "cell_type": "code",
   "execution_count": 13,
   "metadata": {},
   "outputs": [
    {
     "name": "stdout",
     "output_type": "stream",
     "text": [
      "what do you want to encrypt: abc\n",
      "shift by how much: 2\n",
      "CDE\n"
     ]
    }
   ],
   "source": [
    "message = input(\"what do you want to encrypt: \")\n",
    "shift = int(input(\"shift by how much: \"))\n",
    "message_to_encrypt = message.upper()\n",
    "\n",
    "first = message_to_encrypt[0]\n",
    "second = message_to_encrypt[1]\n",
    "third = message_to_encrypt[2]\n",
    "\n",
    "original = [\"A\",\"B\",\"C\",\"D\",\"E\",\"F\",\"G\",\"H\",\"I\",\"J\",\"K\",\"L\",\"M\",\"N\",\"O\",\"P\",\"Q\",\"R\",\"S\",\"T\",\"U\",\"V\",\"W\",\"X\",\"Y\",\"Z\"]\n",
    "\n",
    "index_one = original.index(first)\n",
    "index_two = original.index(second)\n",
    "index_three = original.index(third)\n",
    "\n",
    "index_to_print_one = index_one + shift\n",
    "index_to_print_two = index_two + shift\n",
    "index_to_print_three = index_three + shift\n",
    "\n",
    "if(index_one + shift > 25):\n",
    "    index_to_print_one = index_one + shift - 26\n",
    "if(index_two + shift > 25):\n",
    "    index_to_print_two = index_two + shift - 26\n",
    "if(index_three + shift > 25):\n",
    "    index_to_print_three = index_three + shift - 26\n",
    "\n",
    "print(original[index_to_print_one], end = \"\")\n",
    "print(original[index_to_print_two], end = \"\")\n",
    "print(original[index_to_print_three])\n",
    "\n",
    "\n",
    "\n",
    "\n"
   ]
  },
  {
   "cell_type": "markdown",
   "metadata": {},
   "source": [
    "## Vignere cipher"
   ]
  },
  {
   "cell_type": "code",
   "execution_count": 21,
   "metadata": {},
   "outputs": [
    {
     "name": "stdout",
     "output_type": "stream",
     "text": [
      "message: abc\n",
      "shift message: key\n",
      "KFA"
     ]
    }
   ],
   "source": [
    "message = input(\"message: \")\n",
    "shiftmessage = input(\"shift message: \")\n",
    "message_to_encrypt = message.upper()\n",
    "shiftmessage_to_encrypt = shiftmessage.upper()\n",
    "\n",
    "first = message_to_encrypt[0]\n",
    "second = message_to_encrypt[1]\n",
    "third = message_to_encrypt[2]\n",
    "\n",
    "shift_first = shiftmessage_to_encrypt[0]\n",
    "shift_second = shiftmessage_to_encrypt[1]\n",
    "shift_third = shiftmessage_to_encrypt[2]\n",
    "\n",
    "original = [\"A\",\"B\",\"C\",\"D\",\"E\",\"F\",\"G\",\"H\",\"I\",\"J\",\"K\",\"L\",\"M\",\"N\",\"O\",\"P\",\"Q\",\"R\",\"S\",\"T\",\"U\",\"V\",\"W\",\"X\",\"Y\",\"Z\"]\n",
    "\n",
    "index_one = original.index(first)\n",
    "index_two = original.index(second)\n",
    "index_three = original.index(third)\n",
    "\n",
    "index_shift_first = original.index(shift_first)\n",
    "index_shift_second = original.index(shift_second)\n",
    "index_shift_third = original.index(shift_third)\n",
    "\n",
    "index_to_print_one = index_one + index_shift_first\n",
    "index_to_print_two = index_two + index_shift_second\n",
    "index_to_print_three = index_three + index_shift_third\n",
    "\n",
    "if(index_one + index_shift_first > 25):\n",
    "    index_to_print_one = index_one + index_shift_first - 26\n",
    "if(index_two + index_shift_second > 25):\n",
    "    index_to_print_two = index_two + index_shift_second - 26\n",
    "if(index_three + index_shift_third > 25):\n",
    "    index_to_print_three = index_three + index_shift_third - 26\n",
    "\n",
    "print(original[index_to_print_one], end = \"\")\n",
    "print(original[index_to_print_two], end = \"\")\n",
    "print(original[index_to_print_three], end = \"\")\n",
    "\n"
   ]
  },
  {
   "cell_type": "markdown",
   "metadata": {},
   "source": [
    "## Contact Tracing"
   ]
  },
  {
   "cell_type": "code",
   "execution_count": 59,
   "metadata": {},
   "outputs": [],
   "source": [
    "# SETUP. DO NOT EDIT THESE LINES.\n",
    "sample_initial_infected_person = 'C'\n",
    "sample_movement_list = ['LMcSEDJfZAqbWRUgYeurIdtzKoihOxBmkQjFlpvNwXyPnCasGHVT',\n",
    "                         'ihpSPvorENDadfcyjnqlmgHWxTCKGIUkeOZzMJXYsuAwVbLRQBFt',\n",
    "                         'qepTuMENGwDztARCImQhiJXfnWbcaVvyrLsZjdYKSFBHPoxglOkU']\n",
    "# END OF SETUP.\n"
   ]
  },
  {
   "cell_type": "code",
   "execution_count": 60,
   "metadata": {},
   "outputs": [],
   "source": [
    "# GRADED FUNCTION\n",
    "def trace(initial_infected_person, movement_list):\n",
    "    #round1\n",
    "    index_of_infected = sample_movement_list[0].index(sample_initial_infected_person)\n",
    "    \n"
   ]
  },
  {
   "cell_type": "code",
   "execution_count": 61,
   "metadata": {},
   "outputs": [],
   "source": [
    "zombies = []\n",
    "#round1\n",
    "#Name those infected by the initial infected person as zombie\n",
    "index_of_infected = sample_movement_list[0].index(sample_initial_infected_person)\n",
    "zombie_index_one = index_of_infected+1\n",
    "zombie_index_two = index_of_infected-1\n",
    "\n",
    "zombies.append(sample_movement_list[0][index_of_infected+1])\n",
    "zombies.append(sample_movement_list[0][index_of_infected-1])\n",
    "\n",
    "#round2\n",
    "index_of_infected_round_two = sample_movement_list[1].index(sample_initial_infected_person)\n",
    "index_of_zombie_one_round_two = sample_movement_list[1].index(sample_movement_list[0][zombie_index_one])\n",
    "index_of_zombie_two_round_two = sample_movement_list[1].index(sample_movement_list[0][zombie_index_two])\n",
    "\n",
    "zombies.append(sample_movement_list[1][index_of_infected_round_two+1])\n",
    "zombies.append(sample_movement_list[1][index_of_infected_round_two-1])\n",
    "zombies.append(sample_movement_list[1][index_of_zombie_one_round_two+1])\n",
    "zombies.append(sample_movement_list[1][index_of_zombie_one_round_two-1])\n",
    "zombies.append(sample_movement_list[1][index_of_zombie_two_round_two+1])\n",
    "zombies.append(sample_movement_list[1][index_of_zombie_two_round_two-1])\n",
    "\n",
    "#round3\n",
    "index_of_infected_round_three = index_of_infected_round_two\n",
    "index_of_zombie_one_round_three = index_of_zombie_one_round_two\n",
    "index_of_zombie_two_round_three = index_of_zombie_two_round_two\n",
    "index_of_zombie_three_round_three = index_of_zombie_one_round_two+1\n",
    "index_of_zombie_four_round_three = index_of_zombie_one_round_two-1\n",
    "index_of_zombie_five_round_three = index_of_zombie_two_round_two+1\n",
    "index_of_zombie_six_round_three = index_of_zombie_two_round_two-1\n",
    "index_of_zombie_seven_round_three = index_of_infected_round_two+1\n",
    "index_of_zombie_eight_round_three = index_of_infected_round_two-1\n",
    "\n",
    "zombies.append(sample_movement_list[2][index_of_infected_round_three+1])\n",
    "zombies.append(sample_movement_list[2][index_of_infected_round_three-1])\n",
    "\n",
    "zombies.append(sample_movement_list[2][index_of_zombie_one_round_three+1])\n",
    "zombies.append(sample_movement_list[2][index_of_zombie_one_round_three-1])\n",
    "\n",
    "zombies.append(sample_movement_list[2][index_of_zombie_two_round_three+1])\n",
    "zombies.append(sample_movement_list[2][index_of_zombie_two_round_three-1])\n",
    "\n",
    "zombies.append(sample_movement_list[2][index_of_zombie_three_round_three+1])\n",
    "zombies.append(sample_movement_list[2][index_of_zombie_three_round_three-1])\n",
    "\n",
    "zombies.append(sample_movement_list[2][index_of_zombie_four_round_three+1])\n",
    "zombies.append(sample_movement_list[2][index_of_zombie_four_round_three-1])\n",
    "\n",
    "zombies.append(sample_movement_list[2][index_of_zombie_five_round_three+1])\n",
    "zombies.append(sample_movement_list[2][index_of_zombie_five_round_three-1])\n",
    "\n",
    "zombies.append(sample_movement_list[2][index_of_zombie_six_round_three+1])\n",
    "zombies.append(sample_movement_list[2][index_of_zombie_six_round_three-1])\n",
    "\n",
    "zombies.append(sample_movement_list[2][index_of_zombie_seven_round_three+1])\n",
    "zombies.append(sample_movement_list[2][index_of_zombie_seven_round_three-1])\n",
    "\n",
    "zombies.append(sample_movement_list[2][index_of_zombie_eight_round_three+1])\n",
    "zombies.append(sample_movement_list[2][index_of_zombie_eight_round_three-1])\n",
    "\n",
    "\n",
    "\n",
    "\n",
    "\n",
    "\n",
    "\n"
   ]
  },
  {
   "cell_type": "code",
   "execution_count": 53,
   "metadata": {},
   "outputs": [
    {
     "name": "stdout",
     "output_type": "stream",
     "text": [
      "['a', 'n', 'K', 'T', 'd', 'D', 'q', 'j']\n"
     ]
    }
   ],
   "source": [
    "print(zombies) #round 2 list of infected without infitial infected person"
   ]
  },
  {
   "cell_type": "code",
   "execution_count": 64,
   "metadata": {},
   "outputs": [
    {
     "name": "stdout",
     "output_type": "stream",
     "text": [
      "{'t', 'K', 'c', 'z', 'n', 'C', 'b', 'a', 'd', 'm', 'I', 'w', 'Q', 'D', 'j', 'q', 'A', 'h', 'W', 'T'}\n"
     ]
    }
   ],
   "source": [
    "zombies.append(sample_initial_infected_person)\n",
    "##remove duplicates\n",
    "no_duplicates=set(zombies)\n",
    "print(no_duplicates)"
   ]
  },
  {
   "cell_type": "code",
   "execution_count": null,
   "metadata": {},
   "outputs": [],
   "source": []
  }
 ],
 "metadata": {
  "kernelspec": {
   "display_name": "Python 3",
   "language": "python",
   "name": "python3"
  },
  "language_info": {
   "codemirror_mode": {
    "name": "ipython",
    "version": 3
   },
   "file_extension": ".py",
   "mimetype": "text/x-python",
   "name": "python",
   "nbconvert_exporter": "python",
   "pygments_lexer": "ipython3",
   "version": "3.7.6"
  }
 },
 "nbformat": 4,
 "nbformat_minor": 4
}
