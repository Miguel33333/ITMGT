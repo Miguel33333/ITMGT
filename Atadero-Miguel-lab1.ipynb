{
 "cells": [
  {
   "cell_type": "markdown",
   "metadata": {},
   "source": [
    "1. 190393\n",
    "2. Atadero\n",
    "3. 2 BS ME\n"
   ]
  },
  {
   "cell_type": "markdown",
   "metadata": {},
   "source": [
    "## Problem 1 : Convert US Dollars into Peso\n",
    "1. input amount of US Dollars\n",
    "2. convert US dollars into peso via conversion factor\n",
    "3. print the conversion"
   ]
  },
  {
   "cell_type": "code",
   "execution_count": 18,
   "metadata": {},
   "outputs": [],
   "source": [
    "#Convert\n",
    "def dollars_to_peso(USD):\n",
    "    peso = USD * 50\n",
    "    return peso"
   ]
  },
  {
   "cell_type": "code",
   "execution_count": 19,
   "metadata": {},
   "outputs": [
    {
     "name": "stdout",
     "output_type": "stream",
     "text": [
      "Enter the amount in US Dollars: 1\n",
      "1 US dollar(s) =  50 Philippine Pesos\n"
     ]
    }
   ],
   "source": [
    "#Ask for amount of USD\n",
    "dollars = int(input(\"Enter the amount in US Dollars: \"))\n",
    "\n",
    "#Convert\n",
    "peso = dollars_to_peso(dollars)\n",
    "\n",
    "#Display\n",
    "print (dollars, \"US dollar(s) = \", peso, \"Philippine Pesos\")\n",
    "\n",
    "       \n",
    "\n"
   ]
  },
  {
   "cell_type": "markdown",
   "metadata": {},
   "source": [
    "## Problem 2 : 2 integers\n",
    "0. accept integer a and b\n",
    "1. The first line should be the sum of a and b.\n",
    "2. The second line should be b subtracted from a.\n",
    "3. The third line should be the product of a and b.\n",
    "4. The fourth line should be the quotient when a is divided by b, excluding the remainder.\n",
    "5. The fifth line should be the remainder when a is divided by b."
   ]
  },
  {
   "cell_type": "code",
   "execution_count": 20,
   "metadata": {},
   "outputs": [
    {
     "name": "stdout",
     "output_type": "stream",
     "text": [
      "Enter a: 55\n",
      "Enter b: 3\n",
      "58\n",
      "52\n",
      "165\n",
      "18\n",
      "1\n"
     ]
    }
   ],
   "source": [
    "a = int(input(\"Enter a: \"))\n",
    "b = int(input(\"Enter b: \"))\n",
    "\n",
    "#Sum\n",
    "sum = a+b\n",
    "print (sum)\n",
    "\n",
    "#Difference\n",
    "difference = a-b\n",
    "print (difference)\n",
    "\n",
    "#Product\n",
    "product = a*b\n",
    "print (product)\n",
    "\n",
    "#Quotient\n",
    "quotient = a//b\n",
    "print (quotient)\n",
    "\n",
    "#Remainder\n",
    "remainder = a%b\n",
    "print (remainder)\n"
   ]
  },
  {
   "cell_type": "markdown",
   "metadata": {},
   "source": [
    "## Problem 3 : BMI\n",
    "1. Enter weight in kg\n",
    "2. Enter height in cm\n",
    "3. Convert cm in m\n",
    "4. Use the formula to compute for BMI\n",
    "5. Display BMI"
   ]
  },
  {
   "cell_type": "code",
   "execution_count": 13,
   "metadata": {},
   "outputs": [],
   "source": [
    "def convert_cm_to_m(cm):\n",
    "    m = cm * 0.01\n",
    "    return m\n",
    "\n",
    "def compute_bmi(kg,m):\n",
    "    bmi = (kg / (m*m))\n",
    "    return bmi\n"
   ]
  },
  {
   "cell_type": "code",
   "execution_count": 14,
   "metadata": {},
   "outputs": [
    {
     "name": "stdout",
     "output_type": "stream",
     "text": [
      "Enter kg: 65\n",
      "Enter cm: 180\n",
      "BMI: 20.061728395061728\n"
     ]
    }
   ],
   "source": [
    "#Ask for kg\n",
    "kg = float(input(\"Enter kg: \"))\n",
    "\n",
    "#Ask for cm\n",
    "cm = float(input(\"Enter cm: \"))\n",
    "\n",
    "#display BMI\n",
    "m = convert_cm_to_m(cm)\n",
    "bmi = compute_bmi(kg, m)\n",
    "print (\"BMI:\", bmi)\n"
   ]
  },
  {
   "cell_type": "code",
   "execution_count": null,
   "metadata": {},
   "outputs": [],
   "source": [
    "\n",
    "\n"
   ]
  }
 ],
 "metadata": {
  "kernelspec": {
   "display_name": "Python 3",
   "language": "python",
   "name": "python3"
  },
  "language_info": {
   "codemirror_mode": {
    "name": "ipython",
    "version": 3
   },
   "file_extension": ".py",
   "mimetype": "text/x-python",
   "name": "python",
   "nbconvert_exporter": "python",
   "pygments_lexer": "ipython3",
   "version": "3.7.6"
  }
 },
 "nbformat": 4,
 "nbformat_minor": 4
}
